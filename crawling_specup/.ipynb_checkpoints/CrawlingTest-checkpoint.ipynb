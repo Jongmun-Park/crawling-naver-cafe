{
 "cells": [
  {
   "cell_type": "code",
   "execution_count": 1,
   "metadata": {},
   "outputs": [],
   "source": [
    "import mechanicalsoup\n",
    "from urllib.parse import urljoin\n",
    "browser = mechanicalsoup.StatefulBrowser()\n",
    "browser.open('https://nid.naver.com/nidlogin.login')\n",
    "browser.select_form('form#frmNIDLogin')\n",
    "browser.launch_browser()"
   ]
  },
  {
   "cell_type": "code",
   "execution_count": 4,
   "metadata": {
    "scrolled": false
   },
   "outputs": [
    {
     "name": "stdout",
     "output_type": "stream",
     "text": [
      "[]\n"
     ]
    }
   ],
   "source": [
    "list_url = 'https://m.cafe.naver.com/ArticleList.nhn'\n",
    "params = {\n",
    "    'search.clubid': '15754634',\n",
    "    'search.menuid': '1481',\n",
    "}\n",
    "search_page = 1000\n",
    "\n",
    "# while(True):\n",
    "# search_page += 1\n",
    "#     print('page:', search_page)\n",
    "params['search.page'] = search_page\n",
    "soup = browser.open(list_url, params=params).soup\n",
    "#     if soup.select('.board_box') is None:\n",
    "print(soup.select('.board_box'))\n",
    "#         break\n",
    "        \n",
    "#         for tag in soup.select('.board_box'):\n",
    "#             write_date = tag.find(class_='time').text\n",
    "#             if write_date is None:\n",
    "        \n",
    "# soup = browser.open(list_url, params=params).soup\n",
    "\n",
    "# for tag in soup.select('.board_box'):\n",
    "#     write_date = tag.find(class_='time').text\n",
    "#     print('18.12.06.'==write_date)\n",
    "#     print(len(write_date), write_date, write_date[3:5])\n",
    "    \n",
    "# for tag in soup.select('li'):\n",
    "#     article_url = urljoin(list_url, tag.find('a')['href'])\n",
    "#     article_title = tag.find(class_='tit').text.strip()\n",
    "#     print(article_url)\n",
    "#     article_soup = browser.open(article_url).soup\n",
    "#     try:\n",
    "#         write_date = article_soup.select('.date.font_l')[0].text   \n",
    "#     except IndexError:\n",
    "#         write_date = '1'\n",
    "    "
   ]
  },
  {
   "cell_type": "code",
   "execution_count": null,
   "metadata": {},
   "outputs": [],
   "source": []
  }
 ],
 "metadata": {
  "kernelspec": {
   "display_name": "Python 3",
   "language": "python",
   "name": "python3"
  },
  "language_info": {
   "codemirror_mode": {
    "name": "ipython",
    "version": 3
   },
   "file_extension": ".py",
   "mimetype": "text/x-python",
   "name": "python",
   "nbconvert_exporter": "python",
   "pygments_lexer": "ipython3",
   "version": "3.6.5"
  }
 },
 "nbformat": 4,
 "nbformat_minor": 2
}
