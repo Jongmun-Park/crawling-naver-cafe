{
 "cells": [
  {
   "cell_type": "code",
   "execution_count": 8,
   "metadata": {},
   "outputs": [
    {
     "name": "stdout",
     "output_type": "stream",
     "text": [
      "이스타22항공\n"
     ]
    }
   ],
   "source": [
    "import re\n",
    "import datetime\n",
    "\n",
    "name = '오에으스드~[이스타22항공] 2019 상반기 객실인턴승무원 채용 (~12/25)'\n",
    "test_name = re.compile('^.*[★|\\[](.*)[★|\\]].*$')\n",
    "match_check = test_name.match(name)\n",
    "print(match_check.group(1))\n",
    "\n",
    "# p = re.compile('(ABC)+')\n",
    "# m = p.search('ABCABCABC OK?')\n",
    "# print(m)"
   ]
  },
  {
   "cell_type": "code",
   "execution_count": null,
   "metadata": {},
   "outputs": [],
   "source": []
  }
 ],
 "metadata": {
  "kernelspec": {
   "display_name": "Python 3",
   "language": "python",
   "name": "python3"
  },
  "language_info": {
   "codemirror_mode": {
    "name": "ipython",
    "version": 3
   },
   "file_extension": ".py",
   "mimetype": "text/x-python",
   "name": "python",
   "nbconvert_exporter": "python",
   "pygments_lexer": "ipython3",
   "version": "3.6.5"
  }
 },
 "nbformat": 4,
 "nbformat_minor": 2
}
