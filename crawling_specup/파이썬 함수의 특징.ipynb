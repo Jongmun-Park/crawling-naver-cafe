{
 "cells": [
  {
   "cell_type": "code",
   "execution_count": 5,
   "metadata": {},
   "outputs": [
    {
     "data": {
      "text/plain": [
       "'Hello Eunwoo'"
      ]
     },
     "execution_count": 5,
     "metadata": {},
     "output_type": "execute_result"
    }
   ],
   "source": [
    "'파이썬의 함수는 일급 객체이다. 파이썬 함수의 특징은 다음과 같다.'\n",
    "\n",
    "'1. 변수에 할당할 수 있다.'\n",
    "\n",
    "def greet(name):\n",
    "    return \"Hello {}\".format(name)\n",
    "\n",
    "greet_someone = greet\n",
    "greet_someone(\"Eunwoo\")"
   ]
  },
  {
   "cell_type": "code",
   "execution_count": 4,
   "metadata": {},
   "outputs": [
    {
     "data": {
      "text/plain": [
       "'Hello Eunwoo'"
      ]
     },
     "execution_count": 4,
     "metadata": {},
     "output_type": "execute_result"
    }
   ],
   "source": [
    "'2. 다른 함수내에서 정의될 수 있다.'\n",
    "\n",
    "def greeting(name):\n",
    "    def greet_message():\n",
    "        return 'Hello'\n",
    "    return \"{} {}\".format(greet_message(), name)\n",
    "greeting(\"Eunwoo\")"
   ]
  },
  {
   "cell_type": "code",
   "execution_count": 6,
   "metadata": {},
   "outputs": [
    {
     "data": {
      "text/plain": [
       "'Hello Jongmun'"
      ]
     },
     "execution_count": 6,
     "metadata": {},
     "output_type": "execute_result"
    }
   ],
   "source": [
    "'3. 함수의 인자로 전달할 수 있다.'\n",
    "\n",
    "def change_name_greet(func):\n",
    "    name = \"Jongmun\"\n",
    "    return func(name)\n",
    "\n",
    "change_name_greet(greet)"
   ]
  },
  {
   "cell_type": "code",
   "execution_count": 7,
   "metadata": {},
   "outputs": [
    {
     "data": {
      "text/plain": [
       "'HELLO JONGMUN'"
      ]
     },
     "execution_count": 7,
     "metadata": {},
     "output_type": "execute_result"
    }
   ],
   "source": [
    "'4. 함수의 반환값이 될 수 있다.'\n",
    "\n",
    "def uppercase(func):\n",
    "    def wrapper(name):\n",
    "        result = func(name)\n",
    "        return result.upper()\n",
    "    return wrapper\n",
    "\n",
    "new_greet = uppercase(greet)\n",
    "new_greet(\"Jongmun\")"
   ]
  },
  {
   "cell_type": "code",
   "execution_count": 9,
   "metadata": {},
   "outputs": [
    {
     "ename": "Exception",
     "evalue": "권한이 없습니다.",
     "output_type": "error",
     "traceback": [
      "\u001b[0;31m---------------------------------------------------------------------------\u001b[0m",
      "\u001b[0;31mException\u001b[0m                                 Traceback (most recent call last)",
      "\u001b[0;32m<ipython-input-9-40dbfcd30d27>\u001b[0m in \u001b[0;36m<module>\u001b[0;34m\u001b[0m\n\u001b[1;32m     13\u001b[0m \u001b[0;34m\u001b[0m\u001b[0m\n\u001b[1;32m     14\u001b[0m \u001b[0mgreet\u001b[0m \u001b[0;34m=\u001b[0m \u001b[0mGreet\u001b[0m\u001b[0;34m(\u001b[0m\u001b[0;34m)\u001b[0m\u001b[0;34m\u001b[0m\u001b[0m\n\u001b[0;32m---> 15\u001b[0;31m \u001b[0mgreet\u001b[0m\u001b[0;34m.\u001b[0m\u001b[0mset_name\u001b[0m\u001b[0;34m(\u001b[0m\u001b[0;34m'Jongmun'\u001b[0m\u001b[0;34m)\u001b[0m\u001b[0;34m\u001b[0m\u001b[0m\n\u001b[0m\u001b[1;32m     16\u001b[0m \u001b[0;34m\u001b[0m\u001b[0m\n",
      "\u001b[0;32m<ipython-input-9-40dbfcd30d27>\u001b[0m in \u001b[0;36mset_name\u001b[0;34m(self, name)\u001b[0m\n\u001b[1;32m      6\u001b[0m             \u001b[0mself\u001b[0m\u001b[0;34m.\u001b[0m\u001b[0mcurrent_user\u001b[0m \u001b[0;34m=\u001b[0m \u001b[0mname\u001b[0m\u001b[0;34m\u001b[0m\u001b[0m\n\u001b[1;32m      7\u001b[0m         \u001b[0;32melse\u001b[0m\u001b[0;34m:\u001b[0m\u001b[0;34m\u001b[0m\u001b[0m\n\u001b[0;32m----> 8\u001b[0;31m             \u001b[0;32mraise\u001b[0m \u001b[0mException\u001b[0m\u001b[0;34m(\u001b[0m\u001b[0;34m\"권한이 없습니다.\"\u001b[0m\u001b[0;34m)\u001b[0m\u001b[0;34m\u001b[0m\u001b[0m\n\u001b[0m\u001b[1;32m      9\u001b[0m \u001b[0;34m\u001b[0m\u001b[0m\n\u001b[1;32m     10\u001b[0m     \u001b[0;32mdef\u001b[0m \u001b[0mget_greeting\u001b[0m\u001b[0;34m(\u001b[0m\u001b[0mself\u001b[0m\u001b[0;34m,\u001b[0m \u001b[0mname\u001b[0m\u001b[0;34m)\u001b[0m\u001b[0;34m:\u001b[0m\u001b[0;34m\u001b[0m\u001b[0m\n",
      "\u001b[0;31mException\u001b[0m: 권한이 없습니다."
     ]
    }
   ],
   "source": [
    "                                            '~~데코레이터 문법~~'\n",
    "class Greet(object):\n",
    "    current_user = None\n",
    "    def set_name(self, name):\n",
    "        if name == 'admin':\n",
    "            self.current_user = name\n",
    "        else:\n",
    "            raise Exception(\"권한이 없습니다.\")\n",
    "    \n",
    "    def get_greeting(self, name):\n",
    "        if name == 'admin':\n",
    "            return \"Hello {}\".format(self.current_user)\n",
    "        \n",
    "greet = Greet()\n",
    "greet.set_name('Jongmun')\n",
    "    "
   ]
  },
  {
   "cell_type": "code",
   "execution_count": 1,
   "metadata": {},
   "outputs": [
    {
     "ename": "Exception",
     "evalue": "권한 없송",
     "output_type": "error",
     "traceback": [
      "\u001b[0;31m---------------------------------------------------------------------------\u001b[0m",
      "\u001b[0;31mException\u001b[0m                                 Traceback (most recent call last)",
      "\u001b[0;32m<ipython-input-1-27d1c2234ffc>\u001b[0m in \u001b[0;36m<module>\u001b[0;34m\u001b[0m\n\u001b[1;32m     15\u001b[0m \u001b[0mgreet\u001b[0m \u001b[0;34m=\u001b[0m \u001b[0mGreet\u001b[0m\u001b[0;34m(\u001b[0m\u001b[0;34m)\u001b[0m\u001b[0;34m\u001b[0m\u001b[0m\n\u001b[1;32m     16\u001b[0m \u001b[0mgreet\u001b[0m\u001b[0;34m.\u001b[0m\u001b[0mset_name\u001b[0m\u001b[0;34m(\u001b[0m\u001b[0;34m'admin'\u001b[0m\u001b[0;34m)\u001b[0m\u001b[0;34m\u001b[0m\u001b[0m\n\u001b[0;32m---> 17\u001b[0;31m \u001b[0mgreet\u001b[0m\u001b[0;34m.\u001b[0m\u001b[0mget_greeting\u001b[0m\u001b[0;34m(\u001b[0m\u001b[0;34m'Jongmun'\u001b[0m\u001b[0;34m)\u001b[0m\u001b[0;34m\u001b[0m\u001b[0m\n\u001b[0m",
      "\u001b[0;32m<ipython-input-1-27d1c2234ffc>\u001b[0m in \u001b[0;36mget_greeting\u001b[0;34m(self, name)\u001b[0m\n\u001b[1;32m     10\u001b[0m \u001b[0;34m\u001b[0m\u001b[0m\n\u001b[1;32m     11\u001b[0m     \u001b[0;32mdef\u001b[0m \u001b[0mget_greeting\u001b[0m\u001b[0;34m(\u001b[0m\u001b[0mself\u001b[0m\u001b[0;34m,\u001b[0m \u001b[0mname\u001b[0m\u001b[0;34m)\u001b[0m\u001b[0;34m:\u001b[0m\u001b[0;34m\u001b[0m\u001b[0m\n\u001b[0;32m---> 12\u001b[0;31m         \u001b[0mis_admin\u001b[0m\u001b[0;34m(\u001b[0m\u001b[0mname\u001b[0m\u001b[0;34m)\u001b[0m\u001b[0;34m\u001b[0m\u001b[0m\n\u001b[0m\u001b[1;32m     13\u001b[0m         \u001b[0;32mreturn\u001b[0m \u001b[0;34m\"Hello {}\"\u001b[0m\u001b[0;34m.\u001b[0m\u001b[0mformat\u001b[0m\u001b[0;34m(\u001b[0m\u001b[0mself\u001b[0m\u001b[0;34m.\u001b[0m\u001b[0mcurrent_user\u001b[0m\u001b[0;34m)\u001b[0m\u001b[0;34m\u001b[0m\u001b[0m\n\u001b[1;32m     14\u001b[0m \u001b[0;34m\u001b[0m\u001b[0m\n",
      "\u001b[0;32m<ipython-input-1-27d1c2234ffc>\u001b[0m in \u001b[0;36mis_admin\u001b[0;34m(user_name)\u001b[0m\n\u001b[1;32m      1\u001b[0m \u001b[0;32mdef\u001b[0m \u001b[0mis_admin\u001b[0m\u001b[0;34m(\u001b[0m\u001b[0muser_name\u001b[0m\u001b[0;34m)\u001b[0m\u001b[0;34m:\u001b[0m\u001b[0;34m\u001b[0m\u001b[0m\n\u001b[1;32m      2\u001b[0m     \u001b[0;32mif\u001b[0m \u001b[0muser_name\u001b[0m \u001b[0;34m!=\u001b[0m \u001b[0;34m'admin'\u001b[0m\u001b[0;34m:\u001b[0m\u001b[0;34m\u001b[0m\u001b[0m\n\u001b[0;32m----> 3\u001b[0;31m         \u001b[0;32mraise\u001b[0m \u001b[0mException\u001b[0m\u001b[0;34m(\u001b[0m\u001b[0;34m\"권한 없송\"\u001b[0m\u001b[0;34m)\u001b[0m\u001b[0;34m\u001b[0m\u001b[0m\n\u001b[0m\u001b[1;32m      4\u001b[0m \u001b[0;34m\u001b[0m\u001b[0m\n\u001b[1;32m      5\u001b[0m \u001b[0;32mclass\u001b[0m \u001b[0mGreet\u001b[0m\u001b[0;34m(\u001b[0m\u001b[0mobject\u001b[0m\u001b[0;34m)\u001b[0m\u001b[0;34m:\u001b[0m\u001b[0;34m\u001b[0m\u001b[0m\n",
      "\u001b[0;31mException\u001b[0m: 권한 없송"
     ]
    }
   ],
   "source": [
    "def is_admin(user_name):\n",
    "    if user_name != 'admin':\n",
    "        raise Exception(\"권한 없송\")\n",
    "\n",
    "class Greet(object):\n",
    "    current_user = None\n",
    "    def set_name(self, name):\n",
    "        is_admin(name)\n",
    "        self.current_user = name\n",
    "    \n",
    "    def get_greeting(self, name):\n",
    "        is_admin(name)\n",
    "        return \"Hello {}\".format(self.current_user)\n",
    "\n",
    "greet = Greet()\n",
    "greet.set_name('admin')\n",
    "greet.get_greeting('Jongmun')"
   ]
  },
  {
   "cell_type": "code",
   "execution_count": 9,
   "metadata": {},
   "outputs": [
    {
     "data": {
      "text/plain": [
       "'Hello None'"
      ]
     },
     "execution_count": 9,
     "metadata": {},
     "output_type": "execute_result"
    }
   ],
   "source": [
    "def is_admin(func):\n",
    "    def wrapper(*args, **kwargs):\n",
    "        \"\"\"\n",
    "        데코레이터\n",
    "        \"\"\"\n",
    "        if kwargs.get('username') != 'admin':\n",
    "            raise Exception(\"아니되오 권한이 없소\")\n",
    "        return func(*args, **kwargs)\n",
    "    return wrapper\n",
    "\n",
    "class Greet(object):\n",
    "    current_user = None\n",
    "    \n",
    "    @is_admin\n",
    "    def set_name(self, username):\n",
    "        self.current_user = username\n",
    "        \n",
    "    @is_admin\n",
    "    def get_greeting(self, username):\n",
    "        \"\"\"\n",
    "        greeting \n",
    "        :param username = 이름\n",
    "        :type username = string\n",
    "        \"\"\"\n",
    "        return \"Hello {}\".format(self.current_user)\n",
    "    \n",
    "greet = Greet()\n",
    "# greet.set_name(username='jongmun')\n",
    "greet.get_greeting(username='admin')"
   ]
  },
  {
   "cell_type": "code",
   "execution_count": 15,
   "metadata": {},
   "outputs": [],
   "source": [
    "'메소드 속성 유지하기'\n",
    "\n",
    "from functools import wraps\n",
    "\n",
    "def is_admin(func):\n",
    "    @wraps(func)\n",
    "    def wrapper(*args, **kwargs):\n",
    "        if kwargs.get('username') != 'admin':\n",
    "            raise Exception(\"wraps Test : admin이 아니네~~\")\n",
    "        return func(*args, **kwargs)\n",
    "    return wrapper\n",
    "\n",
    "class Greet(object):\n",
    "    current_user = None\n",
    "    \n",
    "    @is_admin\n",
    "    def set_name(self, username):\n",
    "        self.user_name = username\n",
    "        \n",
    "    @is_admin\n",
    "    def get_greeting(self, username):\n",
    "        return \"Hello~~ {}\".format(self.current_user)\n",
    "    \n",
    "greet = Greet()\n",
    "greet.get_greeting.__name__\n",
    "greet.get_greeting.__doc__\n"
   ]
  },
  {
   "cell_type": "code",
   "execution_count": 17,
   "metadata": {},
   "outputs": [
    {
     "name": "stdout",
     "output_type": "stream",
     "text": [
      "Gernerate decorator\n",
      "<div>Hello Jongmun</div>\n"
     ]
    }
   ],
   "source": [
    "'데코레이터에게 인자 넘기기'\n",
    "\n",
    "def add_tags(tag_name):\n",
    "    print(\"Gernerate decorator\")\n",
    "    def set_decorator(func):\n",
    "        def wrapper(username):\n",
    "            return \"<{0}>{1}</{0}>\".format(tag_name, func(username))\n",
    "        return wrapper\n",
    "    return set_decorator\n",
    "\n",
    "@add_tags(\"div\")\n",
    "def greeting(name):\n",
    "    return \"Hello \" + name\n",
    "\n",
    "print(greeting('Jongmun'))\n"
   ]
  },
  {
   "cell_type": "code",
   "execution_count": 20,
   "metadata": {},
   "outputs": [
    {
     "name": "stdout",
     "output_type": "stream",
     "text": [
      "init\n",
      "call\n"
     ]
    }
   ],
   "source": [
    "'클래스로 데코레이터 만들기'\n",
    "\n",
    "class Sample(object):\n",
    "    def __init__(self):\n",
    "        print('init')\n",
    "    def __call__(self):\n",
    "        print('call')\n",
    "        \n",
    "sample = Sample()\n",
    "sample()"
   ]
  },
  {
   "cell_type": "code",
   "execution_count": 25,
   "metadata": {},
   "outputs": [
    {
     "name": "stdout",
     "output_type": "stream",
     "text": [
      "Hello JONGNONG\n"
     ]
    }
   ],
   "source": [
    "from functools import wraps\n",
    "\n",
    "class OnlyAdmin(object):\n",
    "    def __init__(self, func):\n",
    "        self.func = func\n",
    "        \n",
    "    def __call__(self, *args, **kwargs):\n",
    "        name = kwargs.get('name').upper()\n",
    "        self.func(name)\n",
    "\n",
    "@OnlyAdmin\n",
    "def greet(name):\n",
    "    print(\"Hello {}\".format(name))\n",
    "    \n",
    "greet(name=\"jongnong\")"
   ]
  },
  {
   "cell_type": "code",
   "execution_count": 19,
   "metadata": {},
   "outputs": [
    {
     "name": "stdout",
     "output_type": "stream",
     "text": [
      "새로운 member가 생성됐습니다.\n",
      "생성자구만 111123\n"
     ]
    }
   ],
   "source": [
    "'__init__(생성자), self 실습'\n",
    "\n",
    "class Member:\n",
    "\n",
    "    def __init__(self, id, password):\n",
    "        self.id = id\n",
    "        self.password = password\n",
    "        print(\"새로운 member가 생성됐습니다.\")\n",
    "    \n",
    "#     def setId(self, id, password):\n",
    "#         self.id = id\n",
    "#         self.password = password\n",
    "\n",
    "    def getId(self):\n",
    "        print(self.id, self.password)\n",
    "\n",
    "member1 = Member(\"생성자구만\", 111123)\n",
    "# member1.setId(\"Jonghwi\", 111123)\n",
    "member1.getId()"
   ]
  },
  {
   "cell_type": "code",
   "execution_count": null,
   "metadata": {},
   "outputs": [],
   "source": []
  },
  {
   "cell_type": "code",
   "execution_count": null,
   "metadata": {},
   "outputs": [],
   "source": []
  }
 ],
 "metadata": {
  "kernelspec": {
   "display_name": "Python 3",
   "language": "python",
   "name": "python3"
  },
  "language_info": {
   "codemirror_mode": {
    "name": "ipython",
    "version": 3
   },
   "file_extension": ".py",
   "mimetype": "text/x-python",
   "name": "python",
   "nbconvert_exporter": "python",
   "pygments_lexer": "ipython3",
   "version": "3.6.5"
  }
 },
 "nbformat": 4,
 "nbformat_minor": 2
}
