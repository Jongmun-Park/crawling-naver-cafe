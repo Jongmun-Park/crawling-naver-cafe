{
 "cells": [
  {
   "cell_type": "code",
   "execution_count": 55,
   "metadata": {},
   "outputs": [],
   "source": [
    "import requests\n",
    "from bs4 import BeautifulSoup\n",
    "from urllib.parse import urljoin"
   ]
  },
  {
   "cell_type": "code",
   "execution_count": 56,
   "metadata": {},
   "outputs": [],
   "source": [
    "list_url = 'https://m.cafe.naver.com/specup/'\n",
    "html = requests.get(list_url).text\n",
    "soup = BeautifulSoup(html, 'html.parser')"
   ]
  },
  {
   "cell_type": "code",
   "execution_count": 58,
   "metadata": {},
   "outputs": [
    {
     "name": "stdout",
     "output_type": "stream",
     "text": [
      "퇴근길 다들 조심하세용\n",
      "[]\n",
      "대림미술관 서류 발표\n",
      "[]\n",
      "대외활동 불참시 불이익은 따로 없나요??\n",
      "[]\n",
      "[대구]\n",
      "\n",
      "                                \n",
      "                                대구 영어회화 스터디\n",
      "[]\n",
      "출첵\n",
      "[]\n",
      "[서울]\n",
      "\n",
      "                                \n",
      "                                월요일 저녁 비즈니스 일본어 스터디 (MBA에서 다루는 기초 과정의 일본어로 경험하고 관련 지식을 통한 비즈니스 감각 향상)\n",
      "[]\n",
      "기업은행 동계 인턴 면접 스터디 할 분 계세요?\n",
      "[]\n",
      "출석\n",
      "[]\n",
      "[고민상담]\n",
      "\n",
      "                                \n",
      "                                혼자 취준하기 힘드네요..\n",
      "[]\n",
      "[삼성] 프리미엄 금융권 대외활동 - 수료증 발급 (~12/16)\n",
      "[]\n",
      "힘내세요\n",
      "[]\n",
      "미국 대기업 Internship 모집[국비 500만원지원] [12월 11일 마감]\n",
      "[]\n",
      "가입~~\n",
      "[]\n",
      "귤\n",
      "[]\n",
      "미국 대기업 Internship 모집[국비 500만원지원] [12월 11일 마감]\n",
      "[]\n",
      "출석\n",
      "[]\n",
      "[기타]\n",
      "\n",
      "                                \n",
      "                                인턴 지원서 안읽는 경우가 흔한가요?\n",
      "[]\n",
      "미국 대기업 Internship 모집[국비 500만원지원] [12월 11일 마감]\n",
      "[]\n",
      "[서울]\n",
      "\n",
      "                                \n",
      "                                중국어 잘하고 싶은 사람들을 위한 중국어 모임(듣기+말하기+회화 등 위주로 구성)\n",
      "[]\n",
      "정신없이 한 해가 지나가네요\n",
      "[]\n"
     ]
    }
   ],
   "source": [
    "for tag in soup.select('#articleListArea li'):\n",
    "    article_url = urljoin(list_url, tag.find('a')['href'])\n",
    "    article_title = tag.find(class_='tit').text.strip()\n",
    "    print(article_title)\n",
    "    article_html = requests.get(article_url).text\n",
    "    article_soup = BeautifulSoup(article_html, 'html.parser')\n",
    "    print(article_soup.select('.date font_l'))"
   ]
  },
  {
   "cell_type": "code",
   "execution_count": null,
   "metadata": {},
   "outputs": [],
   "source": []
  }
 ],
 "metadata": {
  "kernelspec": {
   "display_name": "Python 3",
   "language": "python",
   "name": "python3"
  },
  "language_info": {
   "codemirror_mode": {
    "name": "ipython",
    "version": 3
   },
   "file_extension": ".py",
   "mimetype": "text/x-python",
   "name": "python",
   "nbconvert_exporter": "python",
   "pygments_lexer": "ipython3",
   "version": "3.6.5"
  }
 },
 "nbformat": 4,
 "nbformat_minor": 2
}
