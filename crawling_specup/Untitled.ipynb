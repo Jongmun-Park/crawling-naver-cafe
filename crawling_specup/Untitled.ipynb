{
 "cells": [
  {
   "cell_type": "code",
   "execution_count": 19,
   "metadata": {},
   "outputs": [
    {
     "name": "stdout",
     "output_type": "stream",
     "text": [
      "2018.12.11(화) \n",
      "2019.02.09(토) 채용시 마감\n"
     ]
    }
   ],
   "source": [
    "import re\n",
    "import datetime\n",
    "\n",
    "date = '2018.12.11(화) ~ 2019.02.09(토) 채용시 마감'\n",
    "test_date = re.compile('^(.*)([~])\\s(.*)$')\n",
    "match_check = test_date.match(date)\n",
    "print(match_check.group(1))\n",
    "print(match_check.group(3))\n",
    "\n",
    "# p = re.compile('(ABC)+')\n",
    "# m = p.search('ABCABCABC OK?')\n",
    "# print(m)"
   ]
  },
  {
   "cell_type": "code",
   "execution_count": null,
   "metadata": {},
   "outputs": [],
   "source": []
  }
 ],
 "metadata": {
  "kernelspec": {
   "display_name": "Python 3",
   "language": "python",
   "name": "python3"
  },
  "language_info": {
   "codemirror_mode": {
    "name": "ipython",
    "version": 3
   },
   "file_extension": ".py",
   "mimetype": "text/x-python",
   "name": "python",
   "nbconvert_exporter": "python",
   "pygments_lexer": "ipython3",
   "version": "3.6.5"
  }
 },
 "nbformat": 4,
 "nbformat_minor": 2
}
